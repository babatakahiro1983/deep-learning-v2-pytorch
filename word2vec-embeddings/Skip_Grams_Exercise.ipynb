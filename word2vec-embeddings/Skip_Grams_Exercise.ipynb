{
 "cells": [
  {
   "cell_type": "markdown",
   "metadata": {},
   "source": [
    "# Skip-gram Word2Vec\n",
    "\n",
    "In this notebook, I'll lead you through using PyTorch to implement the [Word2Vec algorithm](https://en.wikipedia.org/wiki/Word2vec) using the skip-gram architecture. By implementing this, you'll learn about embedding words for use in natural language processing. This will come in handy when dealing with things like machine translation.\n",
    "\n",
    "## Readings\n",
    "\n",
    "Here are the resources I used to build this notebook. I suggest reading these either beforehand or while you're working on this material.\n",
    "\n",
    "* A really good [conceptual overview](http://mccormickml.com/2016/04/19/word2vec-tutorial-the-skip-gram-model/) of Word2Vec from Chris McCormick \n",
    "* [First Word2Vec paper](https://arxiv.org/pdf/1301.3781.pdf) from Mikolov et al.\n",
    "* [Neural Information Processing Systems, paper](http://papers.nips.cc/paper/5021-distributed-representations-of-words-and-phrases-and-their-compositionality.pdf) with improvements for Word2Vec also from Mikolov et al.\n",
    "\n",
    "---\n",
    "## Word embeddings\n",
    "\n",
    "When you're dealing with words in text, you end up with tens of thousands of word classes to analyze; one for each word in a vocabulary. Trying to one-hot encode these words is massively inefficient because most values in a one-hot vector will be set to zero. So, the matrix multiplication that happens in between a one-hot input vector and a first, hidden layer will result in mostly zero-valued hidden outputs.\n",
    "\n",
    "<img src='assets/one_hot_encoding.png' width=50%>\n",
    "\n",
    "To solve this problem and greatly increase the efficiency of our networks, we use what are called **embeddings**. Embeddings are just a fully connected layer like you've seen before. We call this layer the embedding layer and the weights are embedding weights. We skip the multiplication into the embedding layer by instead directly grabbing the hidden layer values from the weight matrix. We can do this because the multiplication of a one-hot encoded vector with a matrix returns the row of the matrix corresponding the index of the \"on\" input unit.\n",
    "\n",
    "<img src='assets/lookup_matrix.png' width=50%>\n",
    "\n",
    "Instead of doing the matrix multiplication, we use the weight matrix as a lookup table. We encode the words as integers, for example \"heart\" is encoded as 958, \"mind\" as 18094. Then to get hidden layer values for \"heart\", you just take the 958th row of the embedding matrix. This process is called an **embedding lookup** and the number of hidden units is the **embedding dimension**.\n",
    "\n",
    "<img src='assets/tokenize_lookup.png' width=50%>\n",
    " \n",
    "There is nothing magical going on here. The embedding lookup table is just a weight matrix. The embedding layer is just a hidden layer. The lookup is just a shortcut for the matrix multiplication. The lookup table is trained just like any weight matrix.\n",
    "\n",
    "Embeddings aren't only used for words of course. You can use them for any model where you have a massive number of classes. A particular type of model called **Word2Vec** uses the embedding layer to find vector representations of words that contain semantic meaning."
   ]
  },
  {
   "cell_type": "markdown",
   "metadata": {},
   "source": [
    "---\n",
    "## Word2Vec\n",
    "\n",
    "The Word2Vec algorithm finds much more efficient representations by finding vectors that represent the words. These vectors also contain semantic information about the words.\n",
    "\n",
    "<img src=\"assets/context_drink.png\" width=40%>\n",
    "\n",
    "Words that show up in similar **contexts**, such as \"coffee\", \"tea\", and \"water\" will have vectors near each other. Different words will be further away from one another, and relationships can be represented by distance in vector space.\n",
    "\n",
    "<img src=\"assets/vector_distance.png\" width=40%>\n",
    "\n",
    "\n",
    "There are two architectures for implementing Word2Vec:\n",
    ">* CBOW (Continuous Bag-Of-Words) and \n",
    "* Skip-gram\n",
    "\n",
    "<img src=\"assets/word2vec_architectures.png\" width=60%>\n",
    "\n",
    "In this implementation, we'll be using the **skip-gram architecture** because it performs better than CBOW. Here, we pass in a word and try to predict the words surrounding it in the text. In this way, we can train the network to learn representations for words that show up in similar contexts."
   ]
  },
  {
   "cell_type": "markdown",
   "metadata": {},
   "source": [
    "---\n",
    "## Loading Data\n",
    "\n",
    "Next, we'll ask you to load in data and place it in the `data` directory\n",
    "\n",
    "1. Load the [text8 dataset](https://s3.amazonaws.com/video.udacity-data.com/topher/2018/October/5bbe6499_text8/text8.zip); a file of cleaned up *Wikipedia article text* from Matt Mahoney. \n",
    "2. Place that data in the `data` folder in the home directory.\n",
    "3. Then you can extract it and delete the archive, zip file to save storage space.\n",
    "\n",
    "After following these steps, you should have one file in your data directory: `data/text8`."
   ]
  },
  {
   "cell_type": "code",
   "execution_count": 1,
   "metadata": {},
   "outputs": [
    {
     "name": "stdout",
     "output_type": "stream",
     "text": [
      " anarchism originated as a term of abuse first used against early working class radicals including t\n"
     ]
    }
   ],
   "source": [
    "# read in the extracted text file      \n",
    "with open('data/text8') as f:\n",
    "    text = f.read()\n",
    "\n",
    "# print out the first 100 characters\n",
    "print(text[:100])"
   ]
  },
  {
   "cell_type": "markdown",
   "metadata": {},
   "source": [
    "## Pre-processing\n",
    "\n",
    "Here I'm fixing up the text to make training easier. This comes from the `utils.py` file. The `preprocess` function does a few things:\n",
    ">* It converts any punctuation into tokens, so a period is changed to ` <PERIOD> `. In this data set, there aren't any periods, but it will help in other NLP problems. \n",
    "* It removes all words that show up five or *fewer* times in the dataset. This will greatly reduce issues due to noise in the data and improve the quality of the vector representations. \n",
    "* It returns a list of words in the text.\n",
    "\n",
    "This may take a few seconds to run, since our text file is quite large. If you want to write your own functions for this stuff, go for it!"
   ]
  },
  {
   "cell_type": "code",
   "execution_count": 2,
   "metadata": {},
   "outputs": [
    {
     "name": "stdout",
     "output_type": "stream",
     "text": [
      "['anarchism', 'originated', 'as', 'a', 'term', 'of', 'abuse', 'first', 'used', 'against', 'early', 'working', 'class', 'radicals', 'including', 'the', 'diggers', 'of', 'the', 'english', 'revolution', 'and', 'the', 'sans', 'culottes', 'of', 'the', 'french', 'revolution', 'whilst']\n"
     ]
    }
   ],
   "source": [
    "import utils\n",
    "\n",
    "# get list of words\n",
    "words = utils.preprocess(text)\n",
    "print(words[:30])"
   ]
  },
  {
   "cell_type": "code",
   "execution_count": 3,
   "metadata": {},
   "outputs": [
    {
     "name": "stdout",
     "output_type": "stream",
     "text": [
      "Total words in text: 16680599\n",
      "Unique words: 63641\n"
     ]
    }
   ],
   "source": [
    "# print some stats about this word data\n",
    "print(\"Total words in text: {}\".format(len(words)))\n",
    "print(\"Unique words: {}\".format(len(set(words)))) # `set` removes any duplicate words"
   ]
  },
  {
   "cell_type": "markdown",
   "metadata": {},
   "source": [
    "### Dictionaries\n",
    "\n",
    "Next, I'm creating two dictionaries to convert words to integers and back again (integers to words). This is again done with a function in the `utils.py` file. `create_lookup_tables` takes in a list of words in a text and returns two dictionaries.\n",
    ">* The integers are assigned in descending frequency order, so the most frequent word (\"the\") is given the integer 0 and the next most frequent is 1, and so on. \n",
    "\n",
    "Once we have our dictionaries, the words are converted to integers and stored in the list `int_words`."
   ]
  },
  {
   "cell_type": "code",
   "execution_count": 4,
   "metadata": {},
   "outputs": [
    {
     "name": "stdout",
     "output_type": "stream",
     "text": [
      "[5233, 3080, 11, 5, 194, 1, 3133, 45, 58, 155, 127, 741, 476, 10571, 133, 0, 27349, 1, 0, 102, 854, 2, 0, 15067, 58112, 1, 0, 150, 854, 3580]\n"
     ]
    }
   ],
   "source": [
    "vocab_to_int, int_to_vocab = utils.create_lookup_tables(words)\n",
    "int_words = [vocab_to_int[word] for word in words]\n",
    "\n",
    "print(int_words[:30])"
   ]
  },
  {
   "cell_type": "markdown",
   "metadata": {},
   "source": [
    "## Subsampling\n",
    "\n",
    "Words that show up often such as \"the\", \"of\", and \"for\" don't provide much context to the nearby words. If we discard some of them, we can remove some of the noise from our data and in return get faster training and better representations. This process is called subsampling by Mikolov. For each word $w_i$ in the training set, we'll discard it with probability given by \n",
    "\n",
    "$$ P(w_i) = 1 - \\sqrt{\\frac{t}{f(w_i)}} $$\n",
    "\n",
    "where $t$ is a threshold parameter and $f(w_i)$ is the frequency of word $w_i$ in the total dataset.\n",
    "\n",
    "$$ P(0) = 1 - \\sqrt{\\frac{1*10^{-5}}{1*10^6/16*10^6}} = 0.98735 $$\n",
    "\n",
    "I'm going to leave this up to you as an exercise. Check out my solution to see how I did it.\n",
    "\n",
    "> **Exercise:** Implement subsampling for the words in `int_words`. That is, go through `int_words` and discard each word given the probablility $P(w_i)$ shown above. Note that $P(w_i)$ is the probability that a word is discarded. Assign the subsampled data to `train_words`."
   ]
  },
  {
   "cell_type": "code",
   "execution_count": 5,
   "metadata": {},
   "outputs": [
    {
     "name": "stdout",
     "output_type": "stream",
     "text": [
      "(5233, 303)\n",
      "[5233, 3080, 194, 127, 10571, 27349, 854, 15067, 58112, 10712, 58, 2731, 539, 2757, 567, 7088, 1052, 44611, 2877, 5233, 1134, 2621, 8983, 4147, 6437, 1137, 447, 1818, 4860, 6753]\n"
     ]
    }
   ],
   "source": [
    "from collections import Counter\n",
    "import random\n",
    "import numpy as np\n",
    "\n",
    "threshold = 1e-5\n",
    "word_counts = Counter(int_words)\n",
    "print(list(word_counts.items())[0])  # dictionary of int_words, how many times they appear\n",
    "\n",
    "# discard some frequent words, according to the subsampling equation\n",
    "# create a new list of words for training\n",
    "total_count = len(int_words)\n",
    "freqs = {word: count/total_count for word, count in word_counts.items()}\n",
    "p_drop = {word: 1 - np.sqrt(threshold/freqs[word]) for word in word_counts}\n",
    "train_words = [word for word in int_words if random.random() < (1 - p_drop[word])]\n",
    "\n",
    "print(train_words[:30])"
   ]
  },
  {
   "cell_type": "markdown",
   "metadata": {},
   "source": [
    "## Making batches"
   ]
  },
  {
   "cell_type": "markdown",
   "metadata": {},
   "source": [
    "Now that our data is in good shape, we need to get it into the proper form to pass it into our network. With the skip-gram architecture, for each word in the text, we want to define a surrounding _context_ and grab all the words in a window around that word, with size $C$. \n",
    "\n",
    "From [Mikolov et al.](https://arxiv.org/pdf/1301.3781.pdf): \n",
    "\n",
    "\"Since the more distant words are usually less related to the current word than those close to it, we give less weight to the distant words by sampling less from those words in our training examples... If we choose $C = 5$, for each training word we will select randomly a number $R$ in range $[ 1: C ]$, and then use $R$ words from history and $R$ words from the future of the current word as correct labels.\"\n",
    "\n",
    "> **Exercise:** Implement a function `get_target` that receives a list of words, an index, and a window size, then returns a list of words in the window around the index. Make sure to use the algorithm described above, where you chose a random number of words to from the window.\n",
    "\n",
    "Say, we have an input and we're interested in the idx=2 token, `741`: \n",
    "```\n",
    "[5233, 58, 741, 10571, 27349, 0, 15067, 58112, 3580, 58, 10712]\n",
    "```\n",
    "\n",
    "For `R=2`, `get_target` should return a list of four values:\n",
    "```\n",
    "[5233, 58, 10571, 27349]\n",
    "```"
   ]
  },
  {
   "cell_type": "code",
   "execution_count": 6,
   "metadata": {},
   "outputs": [],
   "source": [
    "def get_target(words, idx, window_size=5):\n",
    "    ''' Get a list of words in a window around an index. '''\n",
    "    \n",
    "    # implement this function\n",
    "    R = np.random.randint(1, window_size + 1)\n",
    "    start = idx - R if (idx - R) > 0 else 0\n",
    "    stop = idx + R\n",
    "    target_words = words[start:idx] + words[idx + 1 : stop + 1]\n",
    "    \n",
    "    return list(target_words)"
   ]
  },
  {
   "cell_type": "code",
   "execution_count": 7,
   "metadata": {},
   "outputs": [
    {
     "name": "stdout",
     "output_type": "stream",
     "text": [
      "Input:  [0, 1, 2, 3, 4, 5, 6, 7, 8, 9]\n",
      "Target:  [2, 3, 4, 6, 7, 8]\n"
     ]
    }
   ],
   "source": [
    "# test your code!\n",
    "\n",
    "# run this cell multiple times to check for random window selection\n",
    "int_text = [i for i in range(10)]\n",
    "print('Input: ', int_text)\n",
    "idx=5 # word index of interest\n",
    "\n",
    "target = get_target(int_text, idx=idx, window_size=5)\n",
    "print('Target: ', target)  # you should get some indices around the idx"
   ]
  },
  {
   "cell_type": "markdown",
   "metadata": {},
   "source": [
    "### Generating Batches \n",
    "\n",
    "Here's a generator function that returns batches of input and target data for our model, using the `get_target` function from above. The idea is that it grabs `batch_size` words from a words list. Then for each of those batches, it gets the target words in a window."
   ]
  },
  {
   "cell_type": "code",
   "execution_count": 8,
   "metadata": {},
   "outputs": [],
   "source": [
    "def get_batches(words, batch_size, window_size=5):\n",
    "    ''' Create a generator of word batches as a tuple (inputs, targets) '''\n",
    "    \n",
    "    n_batches = len(words)//batch_size\n",
    "    \n",
    "    # only full batches\n",
    "    words = words[:n_batches*batch_size]\n",
    "    \n",
    "    for idx in range(0, len(words), batch_size):\n",
    "        x, y = [], []\n",
    "        batch = words[idx:idx+batch_size]\n",
    "        for ii in range(len(batch)):\n",
    "            batch_x = batch[ii]\n",
    "            batch_y = get_target(batch, ii, window_size)\n",
    "            y.extend(batch_y)\n",
    "            x.extend([batch_x]*len(batch_y))\n",
    "        yield x, y\n",
    "    "
   ]
  },
  {
   "cell_type": "code",
   "execution_count": 9,
   "metadata": {},
   "outputs": [
    {
     "name": "stdout",
     "output_type": "stream",
     "text": [
      "x\n",
      " [0, 0, 0, 1, 1, 2, 2, 2, 3, 3, 3]\n",
      "y\n",
      " [1, 2, 3, 0, 2, 0, 1, 3, 0, 1, 2]\n"
     ]
    }
   ],
   "source": [
    "int_text = [i for i in range(20)]\n",
    "x,y = next(get_batches(int_text, batch_size=4, window_size=5))\n",
    "\n",
    "print('x\\n', x)\n",
    "print('y\\n', y)"
   ]
  },
  {
   "cell_type": "markdown",
   "metadata": {},
   "source": [
    "## Building the graph\n",
    "\n",
    "Below is an approximate diagram of the general structure of our network.\n",
    "<img src=\"assets/skip_gram_net_arch.png\" width=60%>\n",
    "\n",
    ">* The input words are passed in as batches of input word tokens. \n",
    "* This will go into a hidden layer of linear units (our embedding layer). \n",
    "* Then, finally into a softmax output layer. \n",
    "\n",
    "We'll use the softmax layer to make a prediction about the context words by sampling, as usual.\n",
    "\n",
    "The idea here is to train the embedding layer weight matrix to find efficient representations for our words. We can discard the softmax layer because we don't really care about making predictions with this network. We just want the embedding matrix so we can use it in _other_ networks we build using this dataset."
   ]
  },
  {
   "cell_type": "markdown",
   "metadata": {},
   "source": [
    "---\n",
    "## Validation\n",
    "\n",
    "Here, I'm creating a function that will help us observe our model as it learns. We're going to choose a few common words and few uncommon words. Then, we'll print out the closest words to them using the cosine similarity: \n",
    "\n",
    "$$\n",
    "\\mathrm{similarity} = \\cos(\\theta) = \\frac{\\vec{a} \\cdot \\vec{b}}{|\\vec{a}||\\vec{b}|}\n",
    "$$\n",
    "\n",
    "\n",
    "We can encode the validation words as vectors $\\vec{a}$ using the embedding table, then calculate the similarity with each word vector $\\vec{b}$ in the embedding table. With the similarities, we can print out the validation words and words in our embedding table semantically similar to those words. It's a nice way to check that our embedding table is grouping together words with similar semantic meanings."
   ]
  },
  {
   "cell_type": "code",
   "execution_count": 10,
   "metadata": {},
   "outputs": [],
   "source": [
    "def cosine_similarity(embedding, valid_size=16, valid_window=100, device='cpu'):\n",
    "    \"\"\" Returns the cosine similarity of validation words with words in the embedding matrix.\n",
    "        Here, embedding should be a PyTorch embedding module.\n",
    "    \"\"\"\n",
    "    \n",
    "    # Here we're calculating the cosine similarity between some random words and \n",
    "    # our embedding vectors. With the similarities, we can look at what words are\n",
    "    # close to our random words.\n",
    "    \n",
    "    # sim = (a . b) / |a||b|\n",
    "    \n",
    "    embed_vectors = embedding.weight\n",
    "    \n",
    "    # magnitude of embedding vectors, |b|\n",
    "    magnitudes = embed_vectors.pow(2).sum(dim=1).sqrt().unsqueeze(0)\n",
    "    \n",
    "    # pick N words from our ranges (0,window) and (1000,1000+window). lower id implies more frequent \n",
    "    valid_examples = np.array(random.sample(range(valid_window), valid_size//2))\n",
    "    valid_examples = np.append(valid_examples,\n",
    "                               random.sample(range(1000,1000+valid_window), valid_size//2))\n",
    "    valid_examples = torch.LongTensor(valid_examples).to(device)\n",
    "    \n",
    "    valid_vectors = embedding(valid_examples)\n",
    "    similarities = torch.mm(valid_vectors, embed_vectors.t())/magnitudes\n",
    "        \n",
    "    return valid_examples, similarities"
   ]
  },
  {
   "cell_type": "markdown",
   "metadata": {},
   "source": [
    "## SkipGram model\n",
    "\n",
    "Define and train the SkipGram model. \n",
    "> You'll need to define an [embedding layer](https://pytorch.org/docs/stable/nn.html#embedding) and a final, softmax output layer.\n",
    "\n",
    "An Embedding layer takes in a number of inputs, importantly:\n",
    "* **num_embeddings** – the size of the dictionary of embeddings, or how many rows you'll want in the embedding weight matrix\n",
    "* **embedding_dim** – the size of each embedding vector; the embedding dimension"
   ]
  },
  {
   "cell_type": "code",
   "execution_count": 11,
   "metadata": {},
   "outputs": [],
   "source": [
    "import torch\n",
    "from torch import nn\n",
    "import torch.optim as optim"
   ]
  },
  {
   "cell_type": "code",
   "execution_count": 12,
   "metadata": {},
   "outputs": [],
   "source": [
    "class SkipGram(nn.Module):\n",
    "    def __init__(self, n_vocab, n_embed):\n",
    "        super().__init__()\n",
    "        \n",
    "        # complete this SkipGram model\n",
    "        self.embed = nn.Embedding(n_vocab, n_embed)\n",
    "        self.output = nn.Linear(n_embed, n_vocab)\n",
    "        self.log_softmax = nn.LogSoftmax(dim=1)\n",
    "    \n",
    "    def forward(self, x):\n",
    "        \n",
    "        # define the forward behavior\n",
    "        x = self.embed(x)\n",
    "        scores = self.output(x)\n",
    "        log_ps = self.log_softmax(scores)\n",
    "        \n",
    "        return log_ps"
   ]
  },
  {
   "cell_type": "markdown",
   "metadata": {},
   "source": [
    "### Training\n",
    "\n",
    "Below is our training loop, and I recommend that you train on GPU, if available.\n",
    "\n",
    "**Note that, because we applied a softmax function to our model output, we are using NLLLoss** as opposed to cross entropy. This is because Softmax  in combination with NLLLoss = CrossEntropy loss ."
   ]
  },
  {
   "cell_type": "code",
   "execution_count": null,
   "metadata": {
    "scrolled": false
   },
   "outputs": [
    {
     "name": "stdout",
     "output_type": "stream",
     "text": [
      "d | hydrology, tel, projections, deregulation, septuagint\n",
      "called | bazin, low, danforth, reunited, patriarchs\n",
      "for | allomorphy, broome, paced, interned, republicanism\n",
      "world | downs, babcock, christological, derivative, personalities\n",
      "may | grapheme, multiprogramming, steered, abstained, inviting\n",
      "as | engendered, whaling, shing, townsend, kurtosis\n",
      "state | stokes, listeria, exceeds, chatham, earner\n",
      "be | petronas, velikovsky, gundahar, enjoying, foo\n",
      "paris | strange, asymmetry, straddle, straightened, ely\n",
      "channel | leveled, sad, dol, controversies, federation\n",
      "file | purchased, gustaf, antibody, ranger, greyish\n",
      "pressure | bounties, claypool, fairhair, furious, technologies\n",
      "troops | sanitization, investment, raya, feistel, demain\n",
      "recorded | quadriceps, dairy, racquet, kop, tame\n",
      "prince | grandiose, litters, moses, shelves, ssn\n",
      "operating | fatou, ngel, preuschen, tze, spotting\n",
      "...\n",
      "some | combi, newt, supplier, horner, apse\n",
      "an | account, intractable, delineate, lamo, yemenite\n",
      "but | disorders, myself, voronin, tiananmen, weizenbaum\n",
      "states | creationists, animated, matthias, liz, zhukov\n",
      "war | alpert, illuminated, jupiter, beehives, nostrand\n",
      "has | fixed, nothing, questioner, mast, kirchner\n",
      "if | enol, agrarian, normed, commitments, annunzio\n",
      "b | serapis, irn, wither, rind, replied\n",
      "question | tapwave, moods, malibu, fripp, mediate\n",
      "brother | ripeness, theoreticians, hindering, cerro, dihedral\n",
      "file | gustaf, purchased, table, thrusting, bahini\n",
      "cost | lincos, brokers, norrath, clothe, trifles\n",
      "something | colonel, midlands, logia, farthest, forgotten\n",
      "bill | marjorie, ariana, ramjet, sanctifying, encode\n",
      "account | an, initials, centime, perpendicular, merril\n",
      "notes | shawshank, commandant, sn, contemporaneous, disproving\n",
      "...\n",
      "and | shoots, alley, malacca, dropkick, omits\n",
      "while | bedivere, shaken, californians, valiant, phonetic\n",
      "more | home, eaux, myositis, latinus, leavis\n",
      "with | inquired, header, wasted, ceremony, ancyra\n",
      "often | wells, coercive, muller, normal, publicizing\n",
      "for | allomorphy, broome, paced, republicanism, batavia\n",
      "states | creationists, animated, liz, matthias, distractions\n",
      "are | amun, grease, morden, pn, keystone\n",
      "writers | meatball, heeded, ragtime, phocidae, crumble\n",
      "cost | norrath, lincos, brokers, clothe, moreover\n",
      "operating | fatou, ngel, generation, preuschen, tze\n",
      "defense | tupper, dawson, afl, classicism, skeletal\n",
      "lived | lobose, fairly, corolla, neolithic, presocratic\n",
      "liberal | novak, solvable, playoffs, palms, prague\n",
      "heavy | advertisers, vav, pka, casablanca, lovers\n",
      "pre | baird, plural, halted, money, zn\n",
      "...\n",
      "see | ru, defy, unbounded, kidnap, deansgate\n",
      "two | pierrot, discontinuities, atx, poisonings, greco\n",
      "up | ventspils, except, nitroglycerin, regularly, soybean\n",
      "history | erodes, penalized, rotating, conjuring, jawbone\n",
      "as | engendered, whaling, shing, latina, kurtosis\n",
      "have | vah, fmd, joiner, swept, georgi\n",
      "but | voronin, disorders, myself, pushing, weizenbaum\n",
      "it | tortoiseshell, actaeon, maimed, hijacker, fetches\n",
      "bbc | miasto, ions, gate, pheromone, posteriori\n",
      "bible | agro, sfg, militias, igoe, aftermarket\n",
      "pre | baird, plural, zn, mindy, halted\n",
      "know | brigid, tejas, cosimo, blueberry, interbreed\n",
      "construction | huffman, bamberg, swinging, replicates, listings\n",
      "articles | demanding, charlie, clk, apportioned, biometricians\n",
      "troops | khadijah, sanitization, raya, feistel, islington\n",
      "prince | grandiose, litters, shelves, moses, zheng\n",
      "...\n",
      "his | reveals, catherine, covariance, eir, practically\n",
      "a | infogrames, driven, peripherals, baleen, existing\n",
      "than | payroll, derwent, indistinguishable, permanence, ascending\n",
      "no | pagan, keying, abm, vivien, pseudopod\n",
      "were | hypomania, commonwealth, underway, remastered, headlined\n",
      "would | intends, filtered, huike, greatest, wealth\n",
      "such | maier, condita, manifesting, middleton, responsibilities\n",
      "other | atemi, dac, royce, simus, vestibule\n",
      "freedom | armouries, lemay, resell, minarchism, apprehend\n",
      "hold | reportedly, brit, sourcebook, competition, kerr\n",
      "numerous | mastercard, jaian, inductees, mega, geocachers\n",
      "paris | ely, strange, asymmetry, straddle, straightened\n",
      "consists | rajasthan, homotopy, romanovs, zaglossus, mauritanian\n",
      "bill | ariana, marjorie, ramjet, sanctifying, eric\n",
      "discovered | sag, rhodope, harappan, deism, apr\n",
      "pressure | bounties, claypool, furious, henotheism, technologies\n",
      "...\n",
      "his | reveals, catherine, wednesday, saint, gullit\n",
      "this | transposing, rec, rejoicing, belatedly, baccal\n",
      "where | abdicating, rykov, taiga, ophthalmologist, grin\n",
      "to | does, newburgh, leland, alcmene, masterpieces\n",
      "four | two, du, ssh, confidence, victimization\n",
      "into | recieved, facile, dictators, crips, calixtus\n",
      "most | evading, neuroimaging, wrapped, wisden, torch\n",
      "may | grapheme, multiprogramming, steered, holes, stunt\n",
      "orthodox | drivetrain, classico, ethnomusicologist, idm, edvard\n",
      "issue | kindergartens, musically, arrest, victor, encompass\n",
      "governor | godlike, starfish, cdr, endogamous, essayist\n",
      "instance | deduction, axl, polygamous, hegelianism, fictionalised\n",
      "lived | neolithic, lobose, fairly, presocratic, corolla\n",
      "prince | grandiose, litters, shelves, moses, zheng\n",
      "taking | arians, arabian, aleister, investigator, disapprove\n",
      "powers | blooded, ozarks, disadvantages, lacan, blotter\n",
      "...\n",
      "world | downs, personalities, babcock, guardians, lorien\n",
      "to | newburgh, does, sheol, masterpieces, concubine\n",
      "have | vah, fmd, joiner, swept, conveyor\n",
      "where | abdicating, rykov, stomach, ophthalmologist, grin\n",
      "been | ethologists, spurgeon, culmination, balinese, tutti\n",
      "so | iraqis, microcebus, libels, retribution, nursery\n",
      "often | normal, coercive, wells, devoted, publicizing\n",
      "these | civilization, enemy, respondents, corona, gulden\n",
      "rise | smugglers, olympiade, discriminated, intersystems, overhauling\n",
      "road | chanting, stefano, username, herdsmen, phantom\n",
      "accepted | haec, blond, views, mandrakesoft, merisi\n",
      "scale | precolonial, electroconvulsive, omega, aphids, repetitions\n",
      "egypt | irritant, oren, phoenicians, solidified, kochi\n",
      "san | tanzanian, stolpe, seriousness, neill, hills\n",
      "behind | past, steinsaltz, bounds, hypomania, routed\n",
      "institute | cnidarians, crusher, hope, inuktitut, delian\n",
      "...\n",
      "use | apologise, oscilloscope, interacts, rit, canaanites\n",
      "is | blueberry, body, mapped, appeal, canaanite\n",
      "their | patrice, idealistic, ministership, immersed, vicarious\n",
      "would | huike, conditioner, greatest, intends, filtered\n",
      "i | woodrow, retro, mastery, appealed, livonian\n",
      "th | tanakh, jemima, conquered, othon, schawlow\n",
      "during | mightiest, iana, dermal, taverne, viva\n",
      "in | expatriates, augie, mineralogist, trinkets, marshes\n",
      "woman | nomination, characters, rave, abbreviations, spine\n",
      "accepted | haec, views, blond, mandrakesoft, shamanistic\n",
      "discovered | sag, deism, harappan, apr, rhodope\n",
      "primarily | database, appreciative, recreations, bolsters, cours\n",
      "nobel | jean, haag, rashi, buda, mistletoe\n",
      "mainly | enhancing, riordan, telford, ras, yao\n",
      "engineering | betray, observables, instigation, desiree, rupiah\n",
      "powers | blooded, ozarks, disadvantages, refuel, ntp\n",
      "...\n",
      "about | lifetime, embossed, mithraic, passionate, philosophy\n",
      "b | serapis, irn, orbits, sacrilegious, claremont\n",
      "over | keynote, discontinuation, pickguard, disneyland, wail\n",
      "three | zero, eight, five, malcolm, railroad\n",
      "his | catherine, reveals, gullit, wednesday, voices\n",
      "united | ynys, mla, chandigarh, rigg, umpires\n",
      "than | ascending, payroll, permanence, indistinguishable, serrated\n",
      "during | mightiest, iana, dermal, retention, taverne\n",
      "behind | past, steinsaltz, routed, bounds, inject\n",
      "existence | zak, yi, robotic, everlasting, clarifying\n",
      "joseph | jsr, founder, revaluation, wwi, crossroads\n",
      "paris | ely, asymmetry, strange, straightened, straddle\n",
      "notes | shawshank, disproving, swordsmiths, sn, commandant\n",
      "consists | rajasthan, homotopy, cas, romanovs, genji\n",
      "know | adrenaline, brigid, interbreed, cosimo, blueberry\n",
      "scale | precolonial, electroconvulsive, aphids, repetitions, hydrographic\n",
      "...\n",
      "it | tortoiseshell, actaeon, anaphylaxis, charterers, hijacker\n",
      "is | body, mapped, the, blueberry, appeal\n",
      "would | huike, intends, tbilisi, apply, wealth\n",
      "zero | three, revisionists, ettore, irwin, density\n",
      "all | waw, adjuvant, dwarf, homes, archie\n",
      "called | pergamon, serum, reunited, guerre, skiego\n",
      "of | levied, katherine, vectors, counters, occult\n",
      "had | consummate, caruana, fgc, outbreaks, rttemberg\n",
      "mean | experiments, stretched, mayflower, admin, whether\n",
      "mathematics | mains, ccel, randomization, rant, attenborough\n",
      "nobel | haag, rashi, mistletoe, buda, nuke\n",
      "running | basslines, celestines, infertile, eager, overloaded\n",
      "notes | shawshank, swordsmiths, disproving, flat, commandant\n",
      "report | sidecar, unscrupulous, intrusion, dianetics, rock\n",
      "additional | pulls, archer, barium, wiktionary, amakusa\n",
      "award | kampong, radcliffe, overlooking, kiska, succeeding\n",
      "...\n"
     ]
    },
    {
     "name": "stdout",
     "output_type": "stream",
     "text": [
      "people | thereby, apa, concussion, inaccessibility, louis\n",
      "such | maier, manifesting, waterfront, condita, unsurpassed\n",
      "i | woodrow, retro, mastery, appealed, parrots\n",
      "at | consuls, biases, mz, partisanship, shane\n",
      "with | wintour, wasted, inquired, told, header\n",
      "will | conveying, pebble, promiscuous, temperatures, crawl\n",
      "eight | one, three, five, six, july\n",
      "time | harbored, devices, forti, oj, forcing\n",
      "something | logia, colonel, dyeing, epistemological, abbeys\n",
      "event | analytic, consumed, dozenal, regularly, silo\n",
      "hold | able, vitriolic, cru, mascarenes, fonseca\n",
      "san | tanzanian, hills, stolpe, seriousness, dade\n",
      "road | herdsmen, marlin, username, caribe, stefano\n",
      "rise | olympiade, intersystems, episodic, smugglers, discriminated\n",
      "file | table, mb, purchased, antibody, bahini\n",
      "discovered | sag, harappan, deism, apr, reverie\n",
      "...\n",
      "years | californian, wolves, earthquakes, corresponds, kinetochores\n",
      "as | disguise, derived, bosom, organize, herc\n",
      "most | neuroimaging, evading, playground, distractions, indies\n",
      "or | javelins, striking, cope, protolanguage, citium\n",
      "of | katherine, samael, theologies, worden, levied\n",
      "so | iraqis, libels, retribution, ambergris, again\n",
      "such | maier, waterfront, condita, cytokine, manifesting\n",
      "other | atemi, vestibule, frequency, booker, collections\n",
      "experience | encourages, adenine, disposable, centrist, emerge\n",
      "proposed | jinx, amaryllis, annotations, encyclopedic, monumenta\n",
      "professional | affiliate, janis, madhyamaka, calderas, forearms\n",
      "primarily | headwaters, interviewer, appreciative, penicillium, bolsters\n",
      "ice | foothills, qmail, arithmeticae, mascarenhas, enos\n",
      "universe | unaccented, crandall, tiny, durant, embodies\n",
      "pope | presided, regicides, pals, handmaid, benedict\n",
      "hit | pee, tonle, misheard, theta, tackle\n",
      "...\n",
      "has | fixed, concessions, provisionally, nothing, questioner\n",
      "was | nineteenth, remained, hungarians, reserve, sayed\n",
      "over | colombo, discontinuation, keynote, pickguard, choo\n",
      "use | pool, oscilloscope, solicit, canaanites, luxuries\n",
      "and | averaged, lems, fellin, occupied, connectedness\n",
      "some | subtly, newt, jutsu, tablets, grouped\n",
      "for | allomorphy, panama, landowners, kotor, interned\n",
      "only | untenable, judaizers, bibliotheke, zhejiang, ecclesiastic\n",
      "hit | pee, tonle, misheard, tackle, theta\n",
      "applied | kip, balthasar, chair, fallacy, loar\n",
      "brother | youngest, ripeness, wounded, lapsed, theoreticians\n",
      "consists | rajasthan, homotopy, cas, genji, mauritanian\n",
      "cost | norrath, clothe, semblance, pen, antimony\n",
      "orthodox | drivetrain, classico, idm, faith, ethnomusicologist\n",
      "shown | unc, trifle, jost, holed, hint\n",
      "numerous | mastercard, beach, thibetanus, beheaded, geocachers\n",
      "...\n",
      "but | proper, could, distinguish, sanatan, corinthians\n",
      "the | ukraine, of, duckburg, capitulate, motherland\n",
      "b | seven, politician, qb, four, d\n",
      "than | payroll, ascending, permanence, vulnerable, indistinguishable\n",
      "such | condita, copyists, waterfront, holtz, maier\n",
      "so | iraqis, libels, ambergris, appears, retribution\n",
      "th | othon, jemima, conquered, tanakh, brite\n",
      "i | x, semon, unsatisfactory, livonian, retro\n",
      "articles | charlie, demanding, quackery, spaceprobe, misrepresentation\n",
      "behind | past, steinsaltz, dorms, hypomania, routed\n",
      "freedom | armouries, lemay, compliance, extensional, instructors\n",
      "taking | arians, arabian, investigator, aleister, capitalistic\n",
      "running | basslines, celestines, infertile, overloaded, eager\n",
      "brother | youngest, lapsed, ripeness, cicero, cerro\n",
      "shown | trifle, unc, holed, jost, hint\n",
      "animals | symbolism, sloths, prohibits, counterfeit, imitative\n",
      "...\n",
      "nine | one, october, three, zero, five\n",
      "it | antiquities, maimed, diplomat, mobilized, gandhara\n",
      "all | waw, adjuvant, coexist, zajdel, gagauz\n",
      "four | two, seven, one, five, est\n",
      "more | quo, leavis, privation, operettas, brewery\n",
      "their | patrice, interferes, large, watling, seek\n",
      "by | laoghaire, rudolph, doer, soon, pamplona\n",
      "is | blueberry, mapped, regolith, meatballwiki, kr\n",
      "universe | unaccented, crandall, durant, sunsets, tiny\n",
      "accepted | haec, mandrakesoft, bruges, terms, civil\n",
      "assembly | constitutional, legislation, trusteeship, municipal, depositors\n",
      "mainly | enhancing, riordan, telford, yao, ras\n",
      "event | astonishing, regularly, dozenal, hechsher, oliver\n",
      "brother | youngest, lapsed, cicero, ripeness, cerro\n",
      "older | nymph, andre, material, kept, prairies\n",
      "hold | cru, overboard, able, mascarenes, brit\n",
      "...\n",
      "were | nodens, gasket, underway, column, proclus\n",
      "can | meromorphic, weyl, pronunciations, reason, ladas\n",
      "five | three, four, eight, one, nine\n",
      "between | lombardy, exmoor, rmi, bounced, thien\n",
      "its | isl, jurisdictional, definition, ferromagnetic, suitable\n",
      "called | pergamon, serum, form, liquidate, virginian\n",
      "b | serapis, politician, tcl, addison, sacrilegious\n",
      "a | jamnia, catamarans, refit, recurrence, is\n",
      "account | an, centime, malcha, wronged, aborigines\n",
      "experience | encourages, temporalities, disposable, adenine, polite\n",
      "event | dozenal, hechsher, inalienable, subluxation, astonishing\n",
      "derived | woodsman, words, oriental, insecure, as\n",
      "http | www, norwegian, legitimize, stillman, york\n",
      "consists | rajasthan, homotopy, cas, connecting, genji\n",
      "ice | qmail, foothills, arithmeticae, hen, napo\n",
      "award | radcliffe, kiska, richardson, avanti, porte\n",
      "...\n",
      "use | pool, oscilloscope, fema, ceramic, automation\n",
      "i | x, semon, livonian, rard, abrasive\n",
      "five | eight, three, one, four, nine\n",
      "into | canyons, kashubian, relents, aeroplanes, expiring\n",
      "one | eight, nine, seven, three, four\n",
      "years | age, five, est, gregorian, four\n",
      "all | waw, adjuvant, zajdel, coexist, fronting\n",
      "used | wrapped, ansi, flawlessly, fissile, bribed\n",
      "gold | beautiful, hutu, blowing, soso, tartarus\n",
      "behind | past, steinsaltz, dagger, dorms, routed\n",
      "hit | pee, misheard, tonle, looking, duval\n",
      "freedom | armouries, extensional, lemay, compliance, resell\n",
      "something | logia, thinks, conscious, delusion, dyeing\n",
      "primarily | headwaters, interviewer, veritable, penicillium, intensely\n",
      "versions | rae, amartya, metaphor, evaluator, aborted\n",
      "police | conscripts, lockerbie, westland, tenerife, turing\n",
      "...\n"
     ]
    }
   ],
   "source": [
    "# check if GPU is available\n",
    "device = 'cuda' if torch.cuda.is_available() else 'cpu'\n",
    "\n",
    "embedding_dim=300 # you can change, if you want\n",
    "\n",
    "model = SkipGram(len(vocab_to_int), embedding_dim).to(device)\n",
    "criterion = nn.NLLLoss()\n",
    "optimizer = optim.Adam(model.parameters(), lr=0.003)\n",
    "\n",
    "print_every = 500\n",
    "steps = 0\n",
    "epochs = 5\n",
    "\n",
    "# train for some number of epochs\n",
    "for e in range(epochs):\n",
    "    \n",
    "    # get input and target batches\n",
    "    for inputs, targets in get_batches(train_words, 512):\n",
    "        steps += 1\n",
    "        inputs, targets = torch.LongTensor(inputs), torch.LongTensor(targets)\n",
    "        inputs, targets = inputs.to(device), targets.to(device)\n",
    "        \n",
    "        log_ps = model(inputs)\n",
    "        loss = criterion(log_ps, targets)\n",
    "        optimizer.zero_grad()\n",
    "        loss.backward()\n",
    "        optimizer.step()\n",
    "\n",
    "        if steps % print_every == 0:                  \n",
    "            # getting examples and similarities      \n",
    "            valid_examples, valid_similarities = cosine_similarity(model.embed, device=device)\n",
    "            _, closest_idxs = valid_similarities.topk(6) # topk highest similarities\n",
    "            \n",
    "            valid_examples, closest_idxs = valid_examples.to('cpu'), closest_idxs.to('cpu')\n",
    "            for ii, valid_idx in enumerate(valid_examples):\n",
    "                closest_words = [int_to_vocab[idx.item()] for idx in closest_idxs[ii]][1:]\n",
    "                print(int_to_vocab[valid_idx.item()] + \" | \" + ', '.join(closest_words))\n",
    "            print(\"...\")"
   ]
  },
  {
   "cell_type": "markdown",
   "metadata": {},
   "source": [
    "## Visualizing the word vectors\n",
    "\n",
    "Below we'll use T-SNE to visualize how our high-dimensional word vectors cluster together. T-SNE is used to project these vectors into two dimensions while preserving local stucture. Check out [this post from Christopher Olah](http://colah.github.io/posts/2014-10-Visualizing-MNIST/) to learn more about T-SNE and other ways to visualize high-dimensional data."
   ]
  },
  {
   "cell_type": "code",
   "execution_count": null,
   "metadata": {},
   "outputs": [],
   "source": [
    "%matplotlib inline\n",
    "%config InlineBackend.figure_format = 'retina'\n",
    "\n",
    "import matplotlib.pyplot as plt\n",
    "from sklearn.manifold import TSNE"
   ]
  },
  {
   "cell_type": "code",
   "execution_count": null,
   "metadata": {},
   "outputs": [],
   "source": [
    "# getting embeddings from the embedding layer of our model, by name\n",
    "embeddings = model.embed.weight.to('cpu').data.numpy()"
   ]
  },
  {
   "cell_type": "code",
   "execution_count": null,
   "metadata": {},
   "outputs": [],
   "source": [
    "viz_words = 600\n",
    "tsne = TSNE()\n",
    "embed_tsne = tsne.fit_transform(embeddings[:viz_words, :])"
   ]
  },
  {
   "cell_type": "code",
   "execution_count": null,
   "metadata": {},
   "outputs": [],
   "source": [
    "fig, ax = plt.subplots(figsize=(16, 16))\n",
    "for idx in range(viz_words):\n",
    "    plt.scatter(*embed_tsne[idx, :], color='steelblue')\n",
    "    plt.annotate(int_to_vocab[idx], (embed_tsne[idx, 0], embed_tsne[idx, 1]), alpha=0.7)"
   ]
  },
  {
   "cell_type": "code",
   "execution_count": null,
   "metadata": {},
   "outputs": [],
   "source": []
  }
 ],
 "metadata": {
  "kernelspec": {
   "display_name": "Python 3",
   "language": "python",
   "name": "python3"
  },
  "language_info": {
   "codemirror_mode": {
    "name": "ipython",
    "version": 3
   },
   "file_extension": ".py",
   "mimetype": "text/x-python",
   "name": "python",
   "nbconvert_exporter": "python",
   "pygments_lexer": "ipython3",
   "version": "3.6.3"
  }
 },
 "nbformat": 4,
 "nbformat_minor": 2
}
